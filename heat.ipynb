{
 "cells": [
  {
   "cell_type": "markdown",
   "metadata": {},
   "source": [
    "# Problème inverse : Assignation de données\n",
    "\n",
    "On considère l'équation de la chaleur stationnaire avec terme source dans un domaine $\\Omega = [0 , L] \\times [0 , H]$ :\n",
    "\n",
    "$$\n",
    "\\left\\{\n",
    "    \\begin{array}{ll}\n",
    "        \\Delta u = f & \\text{dans } \\Omega \\\\\n",
    "        u = 0 & \\text{sur } \\partial \\Omega\n",
    "    \\end{array}\n",
    "\\right.\n",
    "$$\n",
    "    \n",
    "et alors\n",
    "$(u, f) \\in V = \\left\\{ u \\in H^1_0(\\Omega), f \\in L^2(\\Omega) \\; \\big\\lvert \\; \\Delta u = f \\right\\}.$\n",
    "    \n",
    "On considère $N$ points $(x_i, y_i) \\in \\Omega$ où la température $T_i$ est fixée (mesurée).\n",
    "\n",
    "On cherche à minimiser la quantité:\n",
    "\n",
    "$$\n",
    "I = \\sum_{i=1}^N \\left( u(x_i, y_i) - T_i \\right)^2\n",
    "$$\n",
    "\n",
    "sur $(u, f) \\in V$ pour reconstruire la solution $u$ à partir des $T_i$."
   ]
  },
  {
   "cell_type": "markdown",
   "metadata": {},
   "source": [
    "# Equation de la chaleur par différences finies 2D\n",
    "\n",
    "Dans un premier temps, il faut simuler l'équation de la chaleur stationnaire 2D par différences finies sur une grille cartésienne afin de se pouvoir calculer $T_i$.\n",
    "\n",
    "On se donne le maillage suivant:\n",
    "\n",
    "![Maillage en espace ($(i,j) \\in [0,n_x + 1] \\times [0,n_y + 1]$ et $[x_0,x_{n_x + 1}] \\times [y_0,y_{n_y + 1}] = [0;L_x] \\times [0;L_y]$)](mesh.png)\n",
    "\n",
    "Maillage en espace ($(i,j) \\in [0,n_x + 1] \\times [0,n_y + 1]$ et $[x_0,x_{n_x + 1}] \\times [y_0,y_{n_y + 1}] = [0;L_x] \\times [0;L_y]$)\n",
    "\n",
    "On approche l'équation $\\Delta u = f$ par le schéma suivant:\n",
    "\n",
    "$$\n",
    "\\frac{u_{i+1,j} + u_{i-1,j} - 2 u_{i,j}}{\\Delta x^2} + \\frac{u_{i,j+1} + u_{i,j-1} - 2 u_{i,j}}{\\Delta y^2} = f_{i,j}\n",
    "$$\n",
    "\n",
    "Afin de pouvoir écrire ce schéma sous forme matricielle on va changer la numérotation des indices en posant \n",
    "\n",
    "$k = i - 1 + n_x (j-1)$, soit $u_{k} = u_{i,j}$.\n",
    "\n",
    "On retombe sur $i$ et $j$ avec $i = k \\% n_x  + 1$ et $j = (k - i + 1) // n_x + 1$ (le reste et la partie entière de $k$ par $n_x$).On obtient donc le nouveau schéma:\n",
    "\n",
    "$$\n",
    "    \\frac{u_{k+1} + u_{k-1} - 2 u_{k}}{\\Delta x^2} + \\frac{u_{k+n_x} + u_{k-n_x} - 2 u_{k}}{\\Delta y^2} = f_{k}\n",
    "$$\n",
    "\n",
    "On peux donc écrire le schéma sous forme matricielle (sans considérer les bords):\n",
    "\n",
    "$$\n",
    "    A U = b\n",
    "$$\n",
    "\n",
    "où $U = (u_{k})_{k \\in I}$ ($I = [0, n_x n_y - 1]$), $b = (f_{k})_{k \\in I}$ et la matrice $A = a_{kl}$ la matrice du laplacien 2D:\n",
    "\n",
    "$$\n",
    "a_{kl} =\n",
    "\\begin{cases}\n",
    "\\frac{2}{\\Delta x^2} + \\frac{2}{\\Delta y^2}, & \\text{si } k = l \\\\\n",
    "\\frac{-1}{\\Delta x^2}, & \\text{si } i = j - 1 \\text{ ou } k = l + 1\\\\\n",
    "\\frac{-1}{\\Delta y^2}, & \\text{si } i = j - n_x \\text{ ou } k = l + n_x\\\\\n",
    "0, & \\text{sinon}\n",
    "\\end{cases}\n",
    "$$\n"
   ]
  },
  {
   "cell_type": "code",
   "execution_count": null,
   "metadata": {},
   "outputs": [],
   "source": []
  }
 ],
 "metadata": {
  "language_info": {
   "name": "python"
  }
 },
 "nbformat": 4,
 "nbformat_minor": 2
}
